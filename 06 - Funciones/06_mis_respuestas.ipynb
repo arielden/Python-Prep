{
 "cells": [
  {
   "attachments": {},
   "cell_type": "markdown",
   "metadata": {},
   "source": [
    "1) Crear una función que reciba un número como parámetro y devuelva True si es primo y False si no lo es"
   ]
  },
  {
   "cell_type": "code",
   "execution_count": 11,
   "metadata": {},
   "outputs": [
    {
     "data": {
      "text/plain": [
       "1"
      ]
     },
     "execution_count": 11,
     "metadata": {},
     "output_type": "execute_result"
    }
   ],
   "source": [
    "def primos(num):\n",
    "    contador = 0\n",
    "    global a\n",
    "    a = 0\n",
    "    for i in range (2, num-1):\n",
    "        resultado = num % i\n",
    "        if resultado == 0:\n",
    "            contador += 1\n",
    "\n",
    "    if contador >= 1:\n",
    "        #print(False)\n",
    "        a = 0\n",
    "    else:\n",
    "        #print(True)\n",
    "        a = 1\n",
    "    return a\n",
    "    \n",
    "primos(3)\n",
    "\n"
   ]
  },
  {
   "attachments": {},
   "cell_type": "markdown",
   "metadata": {},
   "source": [
    "2) Utilizando la función del punto 1, realizar otra función que reciba de parámetro una lista de números y devuelva sólo aquellos que son primos en otra lista"
   ]
  },
  {
   "cell_type": "code",
   "execution_count": 12,
   "metadata": {},
   "outputs": [
    {
     "name": "stdout",
     "output_type": "stream",
     "text": [
      "[2, 3, 5, 7, 11]\n"
     ]
    }
   ],
   "source": [
    "lista_num = [2, 3, 4, 5, 7, 9, 11, 20]\n",
    "\n",
    "\n",
    "def list_primos(lista):\n",
    "    new_lista = []\n",
    "    for elem in lista:\n",
    "        a = primos(elem)\n",
    "        if a == 1:\n",
    "            new_lista.append(elem)\n",
    "    print(new_lista)\n",
    "\n",
    "\n",
    "list_primos(lista_num)\n"
   ]
  },
  {
   "attachments": {},
   "cell_type": "markdown",
   "metadata": {},
   "source": [
    "3) Crear una función que al recibir una lista de números, devuelva el que más se repite y cuántas veces lo hace. Si hay más de un \"más repetido\", que devuelva cualquiera"
   ]
  },
  {
   "cell_type": "code",
   "execution_count": null,
   "metadata": {},
   "outputs": [],
   "source": [
    "def repetidos(lista):\n",
    "    lista\n",
    "    "
   ]
  },
  {
   "attachments": {},
   "cell_type": "markdown",
   "metadata": {},
   "source": [
    "4) A la función del punto 3, agregar un parámetro más, que permita elegir si se requiere el menor o el mayor de los mas repetidos."
   ]
  },
  {
   "cell_type": "code",
   "execution_count": null,
   "metadata": {},
   "outputs": [],
   "source": []
  }
 ],
 "metadata": {
  "kernelspec": {
   "display_name": "training_env",
   "language": "python",
   "name": "python3"
  },
  "language_info": {
   "codemirror_mode": {
    "name": "ipython",
    "version": 3
   },
   "file_extension": ".py",
   "mimetype": "text/x-python",
   "name": "python",
   "nbconvert_exporter": "python",
   "pygments_lexer": "ipython3",
   "version": "3.10.8 | packaged by conda-forge | (main, Nov 22 2022, 08:16:33) [MSC v.1929 64 bit (AMD64)]"
  },
  "orig_nbformat": 4,
  "vscode": {
   "interpreter": {
    "hash": "85abfc417eebd2c99cf91634a162fb7622c1566e59b58784c2cd05e724336a68"
   }
  }
 },
 "nbformat": 4,
 "nbformat_minor": 2
}
